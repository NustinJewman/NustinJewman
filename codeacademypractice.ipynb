{
  "nbformat": 4,
  "nbformat_minor": 0,
  "metadata": {
    "colab": {
      "name": "codeacademypractice.ipynb",
      "provenance": [],
      "authorship_tag": "ABX9TyO0ggiThKRtk2DKVCS9bXDx",
      "include_colab_link": true
    },
    "kernelspec": {
      "name": "python3",
      "display_name": "Python 3"
    },
    "language_info": {
      "name": "python"
    }
  },
  "cells": [
    {
      "cell_type": "markdown",
      "metadata": {
        "id": "view-in-github",
        "colab_type": "text"
      },
      "source": [
        "<a href=\"https://colab.research.google.com/github/NustinJewman/NustinJewman/blob/main/codeacademypractice.ipynb\" target=\"_parent\"><img src=\"https://colab.research.google.com/assets/colab-badge.svg\" alt=\"Open In Colab\"/></a>"
      ]
    },
    {
      "cell_type": "code",
      "execution_count": null,
      "metadata": {
        "colab": {
          "base_uri": "https://localhost:8080/",
          "height": 130
        },
        "id": "MT04PN-ixC8l",
        "outputId": "a5b0f1e6-f2f2-437b-b535-9d193ba70014"
      },
      "outputs": [
        {
          "output_type": "error",
          "ename": "SyntaxError",
          "evalue": "ignored",
          "traceback": [
            "\u001b[0;36m  File \u001b[0;32m\"<ipython-input-4-2f320e0976dc>\"\u001b[0;36m, line \u001b[0;32m9\u001b[0m\n\u001b[0;31m    print using_control_once()\u001b[0m\n\u001b[0m                           ^\u001b[0m\n\u001b[0;31mSyntaxError\u001b[0m\u001b[0;31m:\u001b[0m invalid syntax\n"
          ]
        }
      ],
      "source": [
        "def using_control_once():\n",
        "    if 5>4:\n",
        "        return \"Success #1\"\n",
        "\n",
        "def using_control_again():\n",
        "    if 1==1:\n",
        "        return \"Success #2\"\n",
        "\n",
        "print using_control_once()\n",
        "print using_control_again()"
      ]
    },
    {
      "cell_type": "code",
      "source": [
        "def grade_converter(grade):\n",
        "    if grade >= 90:\n",
        "        return \"A\"\n",
        "    elif grade >= 80:\n",
        "        return \"B\"\n",
        "    elif grade >= 70:\n",
        "        return \"C\"\n",
        "    elif grade >= 65:\n",
        "        return \"D\"\n",
        "    else:\n",
        "        return \"F\"\n",
        "        # This should print an \"A\"      \n",
        "\n",
        "print grade_converter(92)\n",
        "\n",
        "# This should print a \"C\"\n",
        "print grade_converter(70)\n",
        "\n",
        "# This should print an \"F\"\n",
        "print grade_converter(61)"
      ],
      "metadata": {
        "colab": {
          "base_uri": "https://localhost:8080/",
          "height": 130
        },
        "id": "GH3opIajzMgm",
        "outputId": "2ba5ccaa-991f-453a-8473-731f3a8b8378"
      },
      "execution_count": null,
      "outputs": [
        {
          "output_type": "error",
          "ename": "SyntaxError",
          "evalue": "ignored",
          "traceback": [
            "\u001b[0;36m  File \u001b[0;32m\"<ipython-input-6-377b523e8592>\"\u001b[0;36m, line \u001b[0;32m13\u001b[0m\n\u001b[0;31m    print grade_converter(92)\u001b[0m\n\u001b[0m                        ^\u001b[0m\n\u001b[0;31mSyntaxError\u001b[0m\u001b[0;31m:\u001b[0m invalid syntax\n"
          ]
        }
      ]
    },
    {
      "cell_type": "code",
      "source": [
        "def grade_converter(grade):\n",
        "    if grade > 90:\n",
        "        return \"A\"\n",
        "    elif grade > 80 and grade <= 89:\n",
        "        return \"B\"\n",
        "    elif grade > 70 and grade <= 79:\n",
        "        return \"C\"\n",
        "    elif grade > 60 and grade <= 69:\n",
        "        return \"D\"\n",
        "    else:\n",
        "        return \"F\"\n",
        "      \n",
        "# This should print an \"A\"      \n",
        "print grade_converter(92)\n",
        "\n",
        "# This should print a \"C\"\n",
        "print grade_converter(70)\n",
        "\n",
        "# This should print an \"F\"\n",
        "print grade_converter(61)"
      ],
      "metadata": {
        "colab": {
          "base_uri": "https://localhost:8080/",
          "height": 130
        },
        "id": "7-9QLZFfznYm",
        "outputId": "7809aa20-7531-4746-d2a7-4777b6173978"
      },
      "execution_count": null,
      "outputs": [
        {
          "output_type": "error",
          "ename": "SyntaxError",
          "evalue": "ignored",
          "traceback": [
            "\u001b[0;36m  File \u001b[0;32m\"<ipython-input-8-9ec2e50d9bf4>\"\u001b[0;36m, line \u001b[0;32m14\u001b[0m\n\u001b[0;31m    print grade_converter(92)\u001b[0m\n\u001b[0m                        ^\u001b[0m\n\u001b[0;31mSyntaxError\u001b[0m\u001b[0;31m:\u001b[0m invalid syntax\n"
          ]
        }
      ]
    }
  ]
}