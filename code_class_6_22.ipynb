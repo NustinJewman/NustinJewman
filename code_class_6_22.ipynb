{
  "nbformat": 4,
  "nbformat_minor": 0,
  "metadata": {
    "colab": {
      "name": "code class 6/22",
      "provenance": [],
      "authorship_tag": "ABX9TyOL9rBArT3HruJMBXGBvfyh",
      "include_colab_link": true
    },
    "kernelspec": {
      "name": "python3",
      "display_name": "Python 3"
    },
    "language_info": {
      "name": "python"
    }
  },
  "cells": [
    {
      "cell_type": "markdown",
      "metadata": {
        "id": "view-in-github",
        "colab_type": "text"
      },
      "source": [
        "<a href=\"https://colab.research.google.com/github/NustinJewman/NustinJewman/blob/main/code_class_6_22.ipynb\" target=\"_parent\"><img src=\"https://colab.research.google.com/assets/colab-badge.svg\" alt=\"Open In Colab\"/></a>"
      ]
    },
    {
      "cell_type": "code",
      "execution_count": null,
      "metadata": {
        "id": "NjglmFNW5hpK"
      },
      "outputs": [],
      "source": [
        ""
      ]
    }
  ]
}